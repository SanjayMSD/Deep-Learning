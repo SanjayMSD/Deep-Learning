{
 "cells": [
  {
   "cell_type": "markdown",
   "metadata": {
    "colab_type": "text",
    "id": "IQf2bGtGqSZC"
   },
   "source": [
    "## IN THIS PROJECT WE ARE MAKING A MODEL THAT CAN PREDICT HAND WRITTEN DIGITS."
   ]
  },
  {
   "cell_type": "markdown",
   "metadata": {
    "colab_type": "text",
    "id": "EiX9taoSHgV6"
   },
   "source": [
    "## [1] LODING LIBRARIES"
   ]
  },
  {
   "cell_type": "code",
   "execution_count": 2,
   "metadata": {
    "colab": {},
    "colab_type": "code",
    "executionInfo": {
     "elapsed": 4196,
     "status": "ok",
     "timestamp": 1599895521914,
     "user": {
      "displayName": "Game SAN",
      "photoUrl": "https://lh3.googleusercontent.com/a-/AOh14GhSHtxUj_HKCMhPlw6vhNK0Rhdc1b7fV4xx3Mvi=s64",
      "userId": "07377786630568543418"
     },
     "user_tz": -330
    },
    "id": "tHpH0BCmp8P6"
   },
   "outputs": [],
   "source": [
    "# IMPORTING LIBRARIES AND DATA SET\n",
    "\n",
    "import tensorflow\n",
    "import tensorflow.keras\n",
    "from tensorflow.keras.datasets import mnist\n",
    "from tensorflow.keras.models import Sequential\n",
    "from tensorflow.keras.layers import Dense, Dropout, Flatten\n",
    "from tensorflow.keras.layers import Conv2D, MaxPooling2D"
   ]
  },
  {
   "cell_type": "code",
   "execution_count": 3,
   "metadata": {
    "colab": {
     "base_uri": "https://localhost:8080/",
     "height": 1000
    },
    "colab_type": "code",
    "executionInfo": {
     "elapsed": 1450,
     "status": "ok",
     "timestamp": 1599895525210,
     "user": {
      "displayName": "Game SAN",
      "photoUrl": "https://lh3.googleusercontent.com/a-/AOh14GhSHtxUj_HKCMhPlw6vhNK0Rhdc1b7fV4xx3Mvi=s64",
      "userId": "07377786630568543418"
     },
     "user_tz": -330
    },
    "id": "kOmBHZ2_sarw",
    "outputId": "4cf0d138-45f9-4469-e452-45f5934b8204"
   },
   "outputs": [
    {
     "name": "stdout",
     "output_type": "stream",
     "text": [
      "Downloading data from https://storage.googleapis.com/tensorflow/tf-keras-datasets/mnist.npz\n",
      "11493376/11490434 [==============================] - 0s 0us/step\n"
     ]
    },
    {
     "data": {
      "text/plain": [
       "((array([[[0, 0, 0, ..., 0, 0, 0],\n",
       "          [0, 0, 0, ..., 0, 0, 0],\n",
       "          [0, 0, 0, ..., 0, 0, 0],\n",
       "          ...,\n",
       "          [0, 0, 0, ..., 0, 0, 0],\n",
       "          [0, 0, 0, ..., 0, 0, 0],\n",
       "          [0, 0, 0, ..., 0, 0, 0]],\n",
       "  \n",
       "         [[0, 0, 0, ..., 0, 0, 0],\n",
       "          [0, 0, 0, ..., 0, 0, 0],\n",
       "          [0, 0, 0, ..., 0, 0, 0],\n",
       "          ...,\n",
       "          [0, 0, 0, ..., 0, 0, 0],\n",
       "          [0, 0, 0, ..., 0, 0, 0],\n",
       "          [0, 0, 0, ..., 0, 0, 0]],\n",
       "  \n",
       "         [[0, 0, 0, ..., 0, 0, 0],\n",
       "          [0, 0, 0, ..., 0, 0, 0],\n",
       "          [0, 0, 0, ..., 0, 0, 0],\n",
       "          ...,\n",
       "          [0, 0, 0, ..., 0, 0, 0],\n",
       "          [0, 0, 0, ..., 0, 0, 0],\n",
       "          [0, 0, 0, ..., 0, 0, 0]],\n",
       "  \n",
       "         ...,\n",
       "  \n",
       "         [[0, 0, 0, ..., 0, 0, 0],\n",
       "          [0, 0, 0, ..., 0, 0, 0],\n",
       "          [0, 0, 0, ..., 0, 0, 0],\n",
       "          ...,\n",
       "          [0, 0, 0, ..., 0, 0, 0],\n",
       "          [0, 0, 0, ..., 0, 0, 0],\n",
       "          [0, 0, 0, ..., 0, 0, 0]],\n",
       "  \n",
       "         [[0, 0, 0, ..., 0, 0, 0],\n",
       "          [0, 0, 0, ..., 0, 0, 0],\n",
       "          [0, 0, 0, ..., 0, 0, 0],\n",
       "          ...,\n",
       "          [0, 0, 0, ..., 0, 0, 0],\n",
       "          [0, 0, 0, ..., 0, 0, 0],\n",
       "          [0, 0, 0, ..., 0, 0, 0]],\n",
       "  \n",
       "         [[0, 0, 0, ..., 0, 0, 0],\n",
       "          [0, 0, 0, ..., 0, 0, 0],\n",
       "          [0, 0, 0, ..., 0, 0, 0],\n",
       "          ...,\n",
       "          [0, 0, 0, ..., 0, 0, 0],\n",
       "          [0, 0, 0, ..., 0, 0, 0],\n",
       "          [0, 0, 0, ..., 0, 0, 0]]], dtype=uint8),\n",
       "  array([5, 0, 4, ..., 5, 6, 8], dtype=uint8)),\n",
       " (array([[[0, 0, 0, ..., 0, 0, 0],\n",
       "          [0, 0, 0, ..., 0, 0, 0],\n",
       "          [0, 0, 0, ..., 0, 0, 0],\n",
       "          ...,\n",
       "          [0, 0, 0, ..., 0, 0, 0],\n",
       "          [0, 0, 0, ..., 0, 0, 0],\n",
       "          [0, 0, 0, ..., 0, 0, 0]],\n",
       "  \n",
       "         [[0, 0, 0, ..., 0, 0, 0],\n",
       "          [0, 0, 0, ..., 0, 0, 0],\n",
       "          [0, 0, 0, ..., 0, 0, 0],\n",
       "          ...,\n",
       "          [0, 0, 0, ..., 0, 0, 0],\n",
       "          [0, 0, 0, ..., 0, 0, 0],\n",
       "          [0, 0, 0, ..., 0, 0, 0]],\n",
       "  \n",
       "         [[0, 0, 0, ..., 0, 0, 0],\n",
       "          [0, 0, 0, ..., 0, 0, 0],\n",
       "          [0, 0, 0, ..., 0, 0, 0],\n",
       "          ...,\n",
       "          [0, 0, 0, ..., 0, 0, 0],\n",
       "          [0, 0, 0, ..., 0, 0, 0],\n",
       "          [0, 0, 0, ..., 0, 0, 0]],\n",
       "  \n",
       "         ...,\n",
       "  \n",
       "         [[0, 0, 0, ..., 0, 0, 0],\n",
       "          [0, 0, 0, ..., 0, 0, 0],\n",
       "          [0, 0, 0, ..., 0, 0, 0],\n",
       "          ...,\n",
       "          [0, 0, 0, ..., 0, 0, 0],\n",
       "          [0, 0, 0, ..., 0, 0, 0],\n",
       "          [0, 0, 0, ..., 0, 0, 0]],\n",
       "  \n",
       "         [[0, 0, 0, ..., 0, 0, 0],\n",
       "          [0, 0, 0, ..., 0, 0, 0],\n",
       "          [0, 0, 0, ..., 0, 0, 0],\n",
       "          ...,\n",
       "          [0, 0, 0, ..., 0, 0, 0],\n",
       "          [0, 0, 0, ..., 0, 0, 0],\n",
       "          [0, 0, 0, ..., 0, 0, 0]],\n",
       "  \n",
       "         [[0, 0, 0, ..., 0, 0, 0],\n",
       "          [0, 0, 0, ..., 0, 0, 0],\n",
       "          [0, 0, 0, ..., 0, 0, 0],\n",
       "          ...,\n",
       "          [0, 0, 0, ..., 0, 0, 0],\n",
       "          [0, 0, 0, ..., 0, 0, 0],\n",
       "          [0, 0, 0, ..., 0, 0, 0]]], dtype=uint8),\n",
       "  array([7, 2, 1, ..., 4, 5, 6], dtype=uint8)))"
      ]
     },
     "execution_count": 3,
     "metadata": {
      "tags": []
     },
     "output_type": "execute_result"
    }
   ],
   "source": [
    "# TOTAL IMAGES CONTAINS 70K IMAGES (60K IN TRAINING & 10K IN TESTING)\n",
    "# 10 NUMBERS FROM 0 TO 9\n",
    "\n",
    "mnist.load_data()"
   ]
  },
  {
   "cell_type": "code",
   "execution_count": 4,
   "metadata": {
    "colab": {
     "base_uri": "https://localhost:8080/",
     "height": 35
    },
    "colab_type": "code",
    "executionInfo": {
     "elapsed": 957,
     "status": "ok",
     "timestamp": 1599895530717,
     "user": {
      "displayName": "Game SAN",
      "photoUrl": "https://lh3.googleusercontent.com/a-/AOh14GhSHtxUj_HKCMhPlw6vhNK0Rhdc1b7fV4xx3Mvi=s64",
      "userId": "07377786630568543418"
     },
     "user_tz": -330
    },
    "id": "GmEMAr0CFyxa",
    "outputId": "a835ea1e-d573-4f6a-90ba-9585230ce8dd"
   },
   "outputs": [
    {
     "data": {
      "text/plain": [
       "(28, 28)"
      ]
     },
     "execution_count": 4,
     "metadata": {
      "tags": []
     },
     "output_type": "execute_result"
    }
   ],
   "source": [
    "# SPLITING DATA SET INTO TRAIN AND TEST\n",
    "(x_train, y_train), (x_test, y_test) = mnist.load_data()\n",
    "\n",
    "# PRINT SHAPE OF AN 1ST IMAGE\n",
    "x_train[0].shape"
   ]
  },
  {
   "cell_type": "markdown",
   "metadata": {
    "colab_type": "text",
    "id": "LU4UNZKPGfNV"
   },
   "source": [
    "## [2] HERE WE ARE PLOTTING SAMPLE IMAGE OF OUR MNIST DATA SET"
   ]
  },
  {
   "cell_type": "code",
   "execution_count": 5,
   "metadata": {
    "colab": {
     "base_uri": "https://localhost:8080/",
     "height": 265
    },
    "colab_type": "code",
    "executionInfo": {
     "elapsed": 997,
     "status": "ok",
     "timestamp": 1599895535985,
     "user": {
      "displayName": "Game SAN",
      "photoUrl": "https://lh3.googleusercontent.com/a-/AOh14GhSHtxUj_HKCMhPlw6vhNK0Rhdc1b7fV4xx3Mvi=s64",
      "userId": "07377786630568543418"
     },
     "user_tz": -330
    },
    "id": "empq9scyBgSb",
    "outputId": "e5fed181-e249-4067-8365-afc490975820"
   },
   "outputs": [
    {
     "data": {
      "image/png": "[encoded data removed]",
      "text/plain": [
       "<Figure size 432x288 with 1 Axes>"
      ]
     },
     "metadata": {
      "needs_background": "light",
      "tags": []
     },
     "output_type": "display_data"
    }
   ],
   "source": [
    "# PLOTTING LIBRARY\n",
    "import matplotlib.pyplot as plt\n",
    "%matplotlib inline\n",
    "\n",
    "# PICK 1ST IMAGE TO PLOT\n",
    "sample = 0\n",
    "image = x_train[sample]\n",
    "\n",
    "# PLOTTING 1ST IMAGE\n",
    "fig = plt.figure\n",
    "plt.imshow(image, cmap='gray')\n",
    "plt.show()"
   ]
  },
  {
   "cell_type": "markdown",
   "metadata": {
    "colab_type": "text",
    "id": "ZMN8vVSptPIo"
   },
   "source": [
    "## [3] DATA PREPROCESSING"
   ]
  },
  {
   "cell_type": "code",
   "execution_count": 6,
   "metadata": {
    "colab": {
     "base_uri": "https://localhost:8080/",
     "height": 72
    },
    "colab_type": "code",
    "executionInfo": {
     "elapsed": 1021,
     "status": "ok",
     "timestamp": 1599895539867,
     "user": {
      "displayName": "Game SAN",
      "photoUrl": "https://lh3.googleusercontent.com/a-/AOh14GhSHtxUj_HKCMhPlw6vhNK0Rhdc1b7fV4xx3Mvi=s64",
      "userId": "07377786630568543418"
     },
     "user_tz": -330
    },
    "id": "PWIs2JctrM3V",
    "outputId": "da6b2f5b-14b9-4cb4-ac26-f3df8aaf506d"
   },
   "outputs": [
    {
     "name": "stdout",
     "output_type": "stream",
     "text": [
      "x_train shape: (60000, 28, 28, 1)\n",
      "60000 train samples\n",
      "10000 test samples\n"
     ]
    }
   ],
   "source": [
    "x_train = x_train.reshape(x_train.shape[0], 28, 28, 1)\n",
    "x_test = x_test.reshape(x_test.shape[0], 28, 28, 1)\n",
    "input_shape = (28, 28, 1)\n",
    "\n",
    "# convert class vectors to binary class matrices\n",
    "y_train = tensorflow.keras.utils.to_categorical(y_train, num_classes)\n",
    "y_test = tensorflow.keras.utils.to_categorical(y_test, num_classes)\n",
    "x_train = x_train.astype('float32')\n",
    "x_test = x_test.astype('float32')\n",
    "x_train /= 255\n",
    "x_test /= 255\n",
    "\n",
    "print('x_train shape:', x_train.shape)\n",
    "print(x_train.shape[0], 'train samples')\n",
    "print(x_test.shape[0], 'test samples')"
   ]
  },
  {
   "cell_type": "markdown",
   "metadata": {
    "colab_type": "text",
    "id": "bYnB8solIUV9"
   },
   "source": [
    "### [4] CREATING CONVOLUTION MODEL"
   ]
  },
  {
   "cell_type": "code",
   "execution_count": 9,
   "metadata": {
    "colab": {},
    "colab_type": "code",
    "executionInfo": {
     "elapsed": 971,
     "status": "ok",
     "timestamp": 1599895729241,
     "user": {
      "displayName": "Game SAN",
      "photoUrl": "https://lh3.googleusercontent.com/a-/AOh14GhSHtxUj_HKCMhPlw6vhNK0Rhdc1b7fV4xx3Mvi=s64",
      "userId": "07377786630568543418"
     },
     "user_tz": -330
    },
    "id": "EKrP25Ggjeh9"
   },
   "outputs": [],
   "source": [
    "input_shape = (28, 28, 1)\n",
    "batch_size = 128\n",
    "num_classes = 10\n",
    "epochs = 30\n",
    "\n",
    "model = Sequential()\n",
    "    \n",
    "model.add(Conv2D(32, kernel_size=(3, 3),activation='relu',input_shape=input_shape))\n",
    "model.add(Conv2D(64, (3, 3), activation='relu'))\n",
    "model.add(MaxPooling2D(pool_size=(2, 2)))\n",
    "model.add(Dropout(0.25))\n",
    "model.add(Flatten())\n",
    "model.add(Dense(256, activation='relu'))\n",
    "model.add(Dropout(0.5))\n",
    "model.add(Dense(num_classes, activation='softmax'))\n",
    "    \n",
    "model.compile(loss=tensorflow.keras.losses.categorical_crossentropy,\n",
    "              optimizer=tensorflow.keras.optimizers.Adadelta(),metrics=['accuracy'])"
   ]
  },
  {
   "cell_type": "code",
   "execution_count": 10,
   "metadata": {
    "colab": {
     "base_uri": "https://localhost:8080/",
     "height": 1000
    },
    "colab_type": "code",
    "executionInfo": {
     "elapsed": 220541,
     "status": "ok",
     "timestamp": 1599895953803,
     "user": {
      "displayName": "Game SAN",
      "photoUrl": "https://lh3.googleusercontent.com/a-/AOh14GhSHtxUj_HKCMhPlw6vhNK0Rhdc1b7fV4xx3Mvi=s64",
      "userId": "07377786630568543418"
     },
     "user_tz": -330
    },
    "id": "9h3Jrc0Voqjz",
    "outputId": "906f83ae-78f6-4926-ab9c-963127e1adec"
   },
   "outputs": [
    {
     "name": "stdout",
     "output_type": "stream",
     "text": [
      "Epoch 1/30\n",
      "469/469 [==============================] - 8s 16ms/step - loss: 2.2688 - accuracy: 0.1745 - val_loss: 2.2016 - val_accuracy: 0.4344\n",
      "Epoch 2/30\n",
      "469/469 [==============================] - 7s 16ms/step - loss: 2.1574 - accuracy: 0.3454 - val_loss: 2.0617 - val_accuracy: 0.6497\n",
      "Epoch 3/30\n",
      "469/469 [==============================] - 7s 16ms/step - loss: 2.0113 - accuracy: 0.4834 - val_loss: 1.8730 - val_accuracy: 0.7064\n",
      "Epoch 4/30\n",
      "469/469 [==============================] - 7s 15ms/step - loss: 1.8151 - accuracy: 0.5754 - val_loss: 1.6296 - val_accuracy: 0.7409\n",
      "Epoch 5/30\n",
      "469/469 [==============================] - 7s 15ms/step - loss: 1.5807 - accuracy: 0.6331 - val_loss: 1.3589 - val_accuracy: 0.7724\n",
      "Epoch 6/30\n",
      "469/469 [==============================] - 7s 15ms/step - loss: 1.3512 - accuracy: 0.6661 - val_loss: 1.1121 - val_accuracy: 0.7942\n",
      "Epoch 7/30\n",
      "469/469 [==============================] - 7s 15ms/step - loss: 1.1557 - accuracy: 0.6974 - val_loss: 0.9212 - val_accuracy: 0.8167\n",
      "Epoch 8/30\n",
      "469/469 [==============================] - 7s 16ms/step - loss: 1.0159 - accuracy: 0.7200 - val_loss: 0.7854 - val_accuracy: 0.8284\n",
      "Epoch 9/30\n",
      "469/469 [==============================] - 7s 15ms/step - loss: 0.9117 - accuracy: 0.7392 - val_loss: 0.6899 - val_accuracy: 0.8402\n",
      "Epoch 10/30\n",
      "469/469 [==============================] - 7s 15ms/step - loss: 0.8285 - accuracy: 0.7581 - val_loss: 0.6196 - val_accuracy: 0.8506\n",
      "Epoch 11/30\n",
      "469/469 [==============================] - 7s 15ms/step - loss: 0.7738 - accuracy: 0.7674 - val_loss: 0.5684 - val_accuracy: 0.8563\n",
      "Epoch 12/30\n",
      "469/469 [==============================] - 7s 16ms/step - loss: 0.7225 - accuracy: 0.7825 - val_loss: 0.5279 - val_accuracy: 0.8644\n",
      "Epoch 13/30\n",
      "469/469 [==============================] - 7s 16ms/step - loss: 0.6861 - accuracy: 0.7931 - val_loss: 0.4961 - val_accuracy: 0.8722\n",
      "Epoch 14/30\n",
      "469/469 [==============================] - 7s 15ms/step - loss: 0.6549 - accuracy: 0.8026 - val_loss: 0.4701 - val_accuracy: 0.8762\n",
      "Epoch 15/30\n",
      "469/469 [==============================] - 7s 15ms/step - loss: 0.6255 - accuracy: 0.8103 - val_loss: 0.4481 - val_accuracy: 0.8817\n",
      "Epoch 16/30\n",
      "469/469 [==============================] - 7s 15ms/step - loss: 0.6045 - accuracy: 0.8157 - val_loss: 0.4304 - val_accuracy: 0.8849\n",
      "Epoch 17/30\n",
      "469/469 [==============================] - 7s 16ms/step - loss: 0.5812 - accuracy: 0.8210 - val_loss: 0.4145 - val_accuracy: 0.8886\n",
      "Epoch 18/30\n",
      "469/469 [==============================] - 7s 15ms/step - loss: 0.5661 - accuracy: 0.8278 - val_loss: 0.4010 - val_accuracy: 0.8919\n",
      "Epoch 19/30\n",
      "469/469 [==============================] - 7s 15ms/step - loss: 0.5466 - accuracy: 0.8317 - val_loss: 0.3888 - val_accuracy: 0.8946\n",
      "Epoch 20/30\n",
      "469/469 [==============================] - 7s 16ms/step - loss: 0.5346 - accuracy: 0.8366 - val_loss: 0.3781 - val_accuracy: 0.8960\n",
      "Epoch 21/30\n",
      "469/469 [==============================] - 8s 16ms/step - loss: 0.5217 - accuracy: 0.8411 - val_loss: 0.3683 - val_accuracy: 0.9000\n",
      "Epoch 22/30\n",
      "469/469 [==============================] - 7s 16ms/step - loss: 0.5103 - accuracy: 0.8443 - val_loss: 0.3597 - val_accuracy: 0.9021\n",
      "Epoch 23/30\n",
      "469/469 [==============================] - 7s 15ms/step - loss: 0.4972 - accuracy: 0.8479 - val_loss: 0.3516 - val_accuracy: 0.9035\n",
      "Epoch 24/30\n",
      "469/469 [==============================] - 7s 15ms/step - loss: 0.4900 - accuracy: 0.8491 - val_loss: 0.3442 - val_accuracy: 0.9046\n",
      "Epoch 25/30\n",
      "469/469 [==============================] - 7s 15ms/step - loss: 0.4798 - accuracy: 0.8533 - val_loss: 0.3381 - val_accuracy: 0.9056\n",
      "Epoch 26/30\n",
      "469/469 [==============================] - 7s 15ms/step - loss: 0.4717 - accuracy: 0.8544 - val_loss: 0.3314 - val_accuracy: 0.9065\n",
      "Epoch 27/30\n",
      "469/469 [==============================] - 7s 15ms/step - loss: 0.4632 - accuracy: 0.8594 - val_loss: 0.3251 - val_accuracy: 0.9086\n",
      "Epoch 28/30\n",
      "469/469 [==============================] - 7s 15ms/step - loss: 0.4562 - accuracy: 0.8604 - val_loss: 0.3197 - val_accuracy: 0.9099\n",
      "Epoch 29/30\n",
      "469/469 [==============================] - 7s 16ms/step - loss: 0.4495 - accuracy: 0.8620 - val_loss: 0.3149 - val_accuracy: 0.9115\n",
      "Epoch 30/30\n",
      "469/469 [==============================] - 7s 15ms/step - loss: 0.4404 - accuracy: 0.8661 - val_loss: 0.3100 - val_accuracy: 0.9126\n",
      "The model has successfully trained\n",
      "Saving the model as mnist.h5\n"
     ]
    }
   ],
   "source": [
    "    hist = model.fit(x_train, y_train,batch_size=batch_size,epochs=epochs,verbose=1,validation_data=(x_test, y_test))\n",
    "    print(\"The model has successfully trained\")\n",
    "    model.save('mnist.h5')\n",
    "    print(\"Saving the model as mnist.h5\")"
   ]
  },
  {
   "cell_type": "markdown",
   "metadata": {
    "colab_type": "text",
    "id": "yFvpG3f1ufgv"
   },
   "source": [
    "### [5] EVALUTE MODEL "
   ]
  },
  {
   "cell_type": "code",
   "execution_count": 40,
   "metadata": {
    "colab": {
     "base_uri": "https://localhost:8080/",
     "height": 54
    },
    "colab_type": "code",
    "executionInfo": {
     "elapsed": 1596,
     "status": "ok",
     "timestamp": 1599890792717,
     "user": {
      "displayName": "Game SAN",
      "photoUrl": "https://lh3.googleusercontent.com/a-/AOh14GhSHtxUj_HKCMhPlw6vhNK0Rhdc1b7fV4xx3Mvi=s64",
      "userId": "07377786630568543418"
     },
     "user_tz": -330
    },
    "id": "hFhicaE4ueWn",
    "outputId": "9cd2f120-22c4-42b0-d7a2-df9458ac6516"
   },
   "outputs": [
    {
     "name": "stdout",
     "output_type": "stream",
     "text": [
      "Test loss: 0.1154482513666153\n",
      "Test accuracy: 0.9659000039100647\n"
     ]
    }
   ],
   "source": [
    "score = model.evaluate(x_test, y_test, verbose=0)\n",
    "\n",
    "print('Test loss:', score[0])\n",
    "print('Test accuracy:', score[1])"
   ]
  }
 ],
 "metadata": {
  "accelerator": "GPU",
  "colab": {
   "authorship_tag": "ABX9TyOEWmMavh2rEGBDciCOYZrD",
   "collapsed_sections": [],
   "name": "MNIST : Handwrriten Digit Recognition.ipynb",
   "provenance": []
  },
  "kernelspec": {
   "display_name": "Python 3",
   "language": "python",
   "name": "python3"
  },
  "language_info": {
   "codemirror_mode": {
    "name": "ipython",
    "version": 3
   },
   "file_extension": ".py",
   "mimetype": "text/x-python",
   "name": "python",
   "nbconvert_exporter": "python",
   "pygments_lexer": "ipython3",
   "version": "3.8.3"
  }
 },
 "nbformat": 4,
 "nbformat_minor": 1
}
